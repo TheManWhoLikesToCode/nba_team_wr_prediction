{
 "cells": [
  {
   "cell_type": "markdown",
   "id": "900ba0dd-b7ba-411d-8690-5b7305c38546",
   "metadata": {},
   "source": [
    "# Introduction\n",
    "\n",
    "The idea of this project is to see if we can predict with some level of accuracy, the winners of NBA games based on previous games played."
   ]
  },
  {
   "cell_type": "code",
   "execution_count": null,
   "id": "f0f0d19d-94fd-4ff0-8b9d-f63e6e027333",
   "metadata": {},
   "outputs": [],
   "source": []
  }
 ],
 "metadata": {
  "kernelspec": {
   "display_name": "Python 3 (ipykernel)",
   "language": "python",
   "name": "python3"
  },
  "language_info": {
   "codemirror_mode": {
    "name": "ipython",
    "version": 3
   },
   "file_extension": ".py",
   "mimetype": "text/x-python",
   "name": "python",
   "nbconvert_exporter": "python",
   "pygments_lexer": "ipython3",
   "version": "3.11.4"
  }
 },
 "nbformat": 4,
 "nbformat_minor": 5
}
